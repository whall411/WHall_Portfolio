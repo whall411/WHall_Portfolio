{
 "cells": [
  {
   "cell_type": "markdown",
   "metadata": {},
   "source": [
    "# GUN VIOLENCE IN NYC 2021"
   ]
  },
  {
   "cell_type": "code",
   "execution_count": 1,
   "metadata": {},
   "outputs": [],
   "source": [
    "import numpy as np\n",
    "import pandas as pd\n",
    "import matplotlib.pyplot as plt\n",
    "import seaborn as sns\n",
    "import datetime"
   ]
  },
  {
   "cell_type": "code",
   "execution_count": 2,
   "metadata": {},
   "outputs": [
    {
     "data": {
      "text/html": [
       "<div>\n",
       "<style scoped>\n",
       "    .dataframe tbody tr th:only-of-type {\n",
       "        vertical-align: middle;\n",
       "    }\n",
       "\n",
       "    .dataframe tbody tr th {\n",
       "        vertical-align: top;\n",
       "    }\n",
       "\n",
       "    .dataframe thead th {\n",
       "        text-align: right;\n",
       "    }\n",
       "</style>\n",
       "<table border=\"1\" class=\"dataframe\">\n",
       "  <thead>\n",
       "    <tr style=\"text-align: right;\">\n",
       "      <th></th>\n",
       "      <th>CAD_EVNT_ID</th>\n",
       "      <th>CREATE_DATE</th>\n",
       "      <th>INCIDENT_DATE</th>\n",
       "      <th>INCIDENT_TIME</th>\n",
       "      <th>NYPD_PCT_CD</th>\n",
       "      <th>BORO_NM</th>\n",
       "      <th>PATRL_BORO_NM</th>\n",
       "      <th>GEO_CD_X</th>\n",
       "      <th>GEO_CD_Y</th>\n",
       "      <th>RADIO_CODE</th>\n",
       "      <th>TYP_DESC</th>\n",
       "      <th>CIP_JOBS</th>\n",
       "      <th>ADD_TS</th>\n",
       "      <th>DISP_TS</th>\n",
       "      <th>ARRIVD_TS</th>\n",
       "      <th>CLOSNG_TS</th>\n",
       "      <th>Latitude</th>\n",
       "      <th>Longitude</th>\n",
       "    </tr>\n",
       "  </thead>\n",
       "  <tbody>\n",
       "    <tr>\n",
       "      <th>0</th>\n",
       "      <td>73973369</td>\n",
       "      <td>01/01/2021</td>\n",
       "      <td>12/31/2020</td>\n",
       "      <td>23:13:14</td>\n",
       "      <td>40.0</td>\n",
       "      <td>BRONX</td>\n",
       "      <td>PATROL BORO BRONX</td>\n",
       "      <td>1003322</td>\n",
       "      <td>235705</td>\n",
       "      <td>53I</td>\n",
       "      <td>VEHICLE ACCIDENT: INJURY</td>\n",
       "      <td>Non CIP</td>\n",
       "      <td>01/01/2021 12:06:24 AM</td>\n",
       "      <td>01/01/2021 12:06:24 AM</td>\n",
       "      <td>NaN</td>\n",
       "      <td>01/01/2021 12:52:29 AM</td>\n",
       "      <td>40.813619</td>\n",
       "      <td>-73.931102</td>\n",
       "    </tr>\n",
       "    <tr>\n",
       "      <th>1</th>\n",
       "      <td>73973980</td>\n",
       "      <td>01/01/2021</td>\n",
       "      <td>12/31/2020</td>\n",
       "      <td>23:59:22</td>\n",
       "      <td>68.0</td>\n",
       "      <td>BROOKLYN</td>\n",
       "      <td>PATROL BORO BKLYN SOUTH</td>\n",
       "      <td>975951</td>\n",
       "      <td>164143</td>\n",
       "      <td>11C4</td>\n",
       "      <td>ALARMS: COMMERCIAL/BURGLARY</td>\n",
       "      <td>Non CIP</td>\n",
       "      <td>01/01/2021 12:01:07 AM</td>\n",
       "      <td>01/01/2021 12:07:05 AM</td>\n",
       "      <td>01/01/2021 12:29:47 AM</td>\n",
       "      <td>01/01/2021 12:41:16 AM</td>\n",
       "      <td>40.617215</td>\n",
       "      <td>-74.029894</td>\n",
       "    </tr>\n",
       "    <tr>\n",
       "      <th>2</th>\n",
       "      <td>73973990</td>\n",
       "      <td>01/01/2021</td>\n",
       "      <td>01/01/2021</td>\n",
       "      <td>00:00:06</td>\n",
       "      <td>81.0</td>\n",
       "      <td>BROOKLYN</td>\n",
       "      <td>PATROL BORO BKLYN NORTH</td>\n",
       "      <td>1006343</td>\n",
       "      <td>186591</td>\n",
       "      <td>10S2</td>\n",
       "      <td>INVESTIGATE/POSSIBLE CRIME: SHOTS FIRED/OUTSIDE</td>\n",
       "      <td>Critical</td>\n",
       "      <td>01/01/2021 12:00:06 AM</td>\n",
       "      <td>01/01/2021 12:00:37 AM</td>\n",
       "      <td>01/01/2021 12:02:30 AM</td>\n",
       "      <td>01/01/2021 12:35:03 AM</td>\n",
       "      <td>40.678807</td>\n",
       "      <td>-73.920349</td>\n",
       "    </tr>\n",
       "    <tr>\n",
       "      <th>3</th>\n",
       "      <td>73973991</td>\n",
       "      <td>01/01/2021</td>\n",
       "      <td>01/01/2021</td>\n",
       "      <td>00:00:08</td>\n",
       "      <td>107.0</td>\n",
       "      <td>QUEENS</td>\n",
       "      <td>PATROL BORO QUEENS SOUTH</td>\n",
       "      <td>1038733</td>\n",
       "      <td>200582</td>\n",
       "      <td>68Q1</td>\n",
       "      <td>SEE COMPLAINANT: OTHER/INSIDE</td>\n",
       "      <td>Non CIP</td>\n",
       "      <td>01/01/2021 12:00:09 AM</td>\n",
       "      <td>01/01/2021 12:00:09 AM</td>\n",
       "      <td>01/01/2021 12:00:09 AM</td>\n",
       "      <td>01/01/2021 01:43:36 AM</td>\n",
       "      <td>40.717068</td>\n",
       "      <td>-73.803461</td>\n",
       "    </tr>\n",
       "    <tr>\n",
       "      <th>4</th>\n",
       "      <td>73973992</td>\n",
       "      <td>01/01/2021</td>\n",
       "      <td>01/01/2021</td>\n",
       "      <td>00:00:10</td>\n",
       "      <td>42.0</td>\n",
       "      <td>BRONX</td>\n",
       "      <td>PATROL BORO BRONX</td>\n",
       "      <td>1011125</td>\n",
       "      <td>241994</td>\n",
       "      <td>54E1</td>\n",
       "      <td>AMBULANCE CASE: EDP/INSIDE</td>\n",
       "      <td>Non CIP</td>\n",
       "      <td>01/01/2021 12:00:10 AM</td>\n",
       "      <td>01/01/2021 12:00:42 AM</td>\n",
       "      <td>NaN</td>\n",
       "      <td>01/01/2021 04:32:22 AM</td>\n",
       "      <td>40.830860</td>\n",
       "      <td>-73.902887</td>\n",
       "    </tr>\n",
       "  </tbody>\n",
       "</table>\n",
       "</div>"
      ],
      "text/plain": [
       "   CAD_EVNT_ID CREATE_DATE INCIDENT_DATE INCIDENT_TIME  NYPD_PCT_CD   BORO_NM  \\\n",
       "0     73973369  01/01/2021    12/31/2020      23:13:14         40.0     BRONX   \n",
       "1     73973980  01/01/2021    12/31/2020      23:59:22         68.0  BROOKLYN   \n",
       "2     73973990  01/01/2021    01/01/2021      00:00:06         81.0  BROOKLYN   \n",
       "3     73973991  01/01/2021    01/01/2021      00:00:08        107.0    QUEENS   \n",
       "4     73973992  01/01/2021    01/01/2021      00:00:10         42.0     BRONX   \n",
       "\n",
       "              PATRL_BORO_NM  GEO_CD_X  GEO_CD_Y RADIO_CODE  \\\n",
       "0         PATROL BORO BRONX   1003322    235705        53I   \n",
       "1   PATROL BORO BKLYN SOUTH    975951    164143       11C4   \n",
       "2   PATROL BORO BKLYN NORTH   1006343    186591       10S2   \n",
       "3  PATROL BORO QUEENS SOUTH   1038733    200582       68Q1   \n",
       "4         PATROL BORO BRONX   1011125    241994       54E1   \n",
       "\n",
       "                                          TYP_DESC  CIP_JOBS  \\\n",
       "0                         VEHICLE ACCIDENT: INJURY   Non CIP   \n",
       "1                      ALARMS: COMMERCIAL/BURGLARY   Non CIP   \n",
       "2  INVESTIGATE/POSSIBLE CRIME: SHOTS FIRED/OUTSIDE  Critical   \n",
       "3                    SEE COMPLAINANT: OTHER/INSIDE   Non CIP   \n",
       "4                       AMBULANCE CASE: EDP/INSIDE   Non CIP   \n",
       "\n",
       "                   ADD_TS                 DISP_TS               ARRIVD_TS  \\\n",
       "0  01/01/2021 12:06:24 AM  01/01/2021 12:06:24 AM                     NaN   \n",
       "1  01/01/2021 12:01:07 AM  01/01/2021 12:07:05 AM  01/01/2021 12:29:47 AM   \n",
       "2  01/01/2021 12:00:06 AM  01/01/2021 12:00:37 AM  01/01/2021 12:02:30 AM   \n",
       "3  01/01/2021 12:00:09 AM  01/01/2021 12:00:09 AM  01/01/2021 12:00:09 AM   \n",
       "4  01/01/2021 12:00:10 AM  01/01/2021 12:00:42 AM                     NaN   \n",
       "\n",
       "                CLOSNG_TS   Latitude  Longitude  \n",
       "0  01/01/2021 12:52:29 AM  40.813619 -73.931102  \n",
       "1  01/01/2021 12:41:16 AM  40.617215 -74.029894  \n",
       "2  01/01/2021 12:35:03 AM  40.678807 -73.920349  \n",
       "3  01/01/2021 01:43:36 AM  40.717068 -73.803461  \n",
       "4  01/01/2021 04:32:22 AM  40.830860 -73.902887  "
      ]
     },
     "execution_count": 2,
     "metadata": {},
     "output_type": "execute_result"
    }
   ],
   "source": [
    "df = pd.read_csv('NYPD_911_2021.csv')\n",
    "df.head()"
   ]
  },
  {
   "cell_type": "code",
   "execution_count": 3,
   "metadata": {},
   "outputs": [],
   "source": [
    "df['INCIDENT_DATE'] = pd.to_datetime(df['INCIDENT_DATE'])"
   ]
  },
  {
   "cell_type": "code",
   "execution_count": 4,
   "metadata": {},
   "outputs": [
    {
     "data": {
      "text/html": [
       "<div>\n",
       "<style scoped>\n",
       "    .dataframe tbody tr th:only-of-type {\n",
       "        vertical-align: middle;\n",
       "    }\n",
       "\n",
       "    .dataframe tbody tr th {\n",
       "        vertical-align: top;\n",
       "    }\n",
       "\n",
       "    .dataframe thead th {\n",
       "        text-align: right;\n",
       "    }\n",
       "</style>\n",
       "<table border=\"1\" class=\"dataframe\">\n",
       "  <thead>\n",
       "    <tr style=\"text-align: right;\">\n",
       "      <th></th>\n",
       "      <th>CAD_EVNT_ID</th>\n",
       "      <th>CREATE_DATE</th>\n",
       "      <th>INCIDENT_DATE</th>\n",
       "      <th>INCIDENT_TIME</th>\n",
       "      <th>NYPD_PCT_CD</th>\n",
       "      <th>BORO_NM</th>\n",
       "      <th>PATRL_BORO_NM</th>\n",
       "      <th>GEO_CD_X</th>\n",
       "      <th>GEO_CD_Y</th>\n",
       "      <th>RADIO_CODE</th>\n",
       "      <th>TYP_DESC</th>\n",
       "      <th>CIP_JOBS</th>\n",
       "      <th>ADD_TS</th>\n",
       "      <th>DISP_TS</th>\n",
       "      <th>ARRIVD_TS</th>\n",
       "      <th>CLOSNG_TS</th>\n",
       "      <th>Latitude</th>\n",
       "      <th>Longitude</th>\n",
       "    </tr>\n",
       "  </thead>\n",
       "  <tbody>\n",
       "    <tr>\n",
       "      <th>0</th>\n",
       "      <td>73973369</td>\n",
       "      <td>01/01/2021</td>\n",
       "      <td>2020-12-31</td>\n",
       "      <td>23:13:14</td>\n",
       "      <td>40.0</td>\n",
       "      <td>BRONX</td>\n",
       "      <td>PATROL BORO BRONX</td>\n",
       "      <td>1003322</td>\n",
       "      <td>235705</td>\n",
       "      <td>53I</td>\n",
       "      <td>VEHICLE ACCIDENT: INJURY</td>\n",
       "      <td>Non CIP</td>\n",
       "      <td>01/01/2021 12:06:24 AM</td>\n",
       "      <td>01/01/2021 12:06:24 AM</td>\n",
       "      <td>NaN</td>\n",
       "      <td>01/01/2021 12:52:29 AM</td>\n",
       "      <td>40.813619</td>\n",
       "      <td>-73.931102</td>\n",
       "    </tr>\n",
       "    <tr>\n",
       "      <th>1</th>\n",
       "      <td>73973980</td>\n",
       "      <td>01/01/2021</td>\n",
       "      <td>2020-12-31</td>\n",
       "      <td>23:59:22</td>\n",
       "      <td>68.0</td>\n",
       "      <td>BROOKLYN</td>\n",
       "      <td>PATROL BORO BKLYN SOUTH</td>\n",
       "      <td>975951</td>\n",
       "      <td>164143</td>\n",
       "      <td>11C4</td>\n",
       "      <td>ALARMS: COMMERCIAL/BURGLARY</td>\n",
       "      <td>Non CIP</td>\n",
       "      <td>01/01/2021 12:01:07 AM</td>\n",
       "      <td>01/01/2021 12:07:05 AM</td>\n",
       "      <td>01/01/2021 12:29:47 AM</td>\n",
       "      <td>01/01/2021 12:41:16 AM</td>\n",
       "      <td>40.617215</td>\n",
       "      <td>-74.029894</td>\n",
       "    </tr>\n",
       "    <tr>\n",
       "      <th>2</th>\n",
       "      <td>73973990</td>\n",
       "      <td>01/01/2021</td>\n",
       "      <td>2021-01-01</td>\n",
       "      <td>00:00:06</td>\n",
       "      <td>81.0</td>\n",
       "      <td>BROOKLYN</td>\n",
       "      <td>PATROL BORO BKLYN NORTH</td>\n",
       "      <td>1006343</td>\n",
       "      <td>186591</td>\n",
       "      <td>10S2</td>\n",
       "      <td>INVESTIGATE/POSSIBLE CRIME: SHOTS FIRED/OUTSIDE</td>\n",
       "      <td>Critical</td>\n",
       "      <td>01/01/2021 12:00:06 AM</td>\n",
       "      <td>01/01/2021 12:00:37 AM</td>\n",
       "      <td>01/01/2021 12:02:30 AM</td>\n",
       "      <td>01/01/2021 12:35:03 AM</td>\n",
       "      <td>40.678807</td>\n",
       "      <td>-73.920349</td>\n",
       "    </tr>\n",
       "    <tr>\n",
       "      <th>3</th>\n",
       "      <td>73973991</td>\n",
       "      <td>01/01/2021</td>\n",
       "      <td>2021-01-01</td>\n",
       "      <td>00:00:08</td>\n",
       "      <td>107.0</td>\n",
       "      <td>QUEENS</td>\n",
       "      <td>PATROL BORO QUEENS SOUTH</td>\n",
       "      <td>1038733</td>\n",
       "      <td>200582</td>\n",
       "      <td>68Q1</td>\n",
       "      <td>SEE COMPLAINANT: OTHER/INSIDE</td>\n",
       "      <td>Non CIP</td>\n",
       "      <td>01/01/2021 12:00:09 AM</td>\n",
       "      <td>01/01/2021 12:00:09 AM</td>\n",
       "      <td>01/01/2021 12:00:09 AM</td>\n",
       "      <td>01/01/2021 01:43:36 AM</td>\n",
       "      <td>40.717068</td>\n",
       "      <td>-73.803461</td>\n",
       "    </tr>\n",
       "    <tr>\n",
       "      <th>4</th>\n",
       "      <td>73973992</td>\n",
       "      <td>01/01/2021</td>\n",
       "      <td>2021-01-01</td>\n",
       "      <td>00:00:10</td>\n",
       "      <td>42.0</td>\n",
       "      <td>BRONX</td>\n",
       "      <td>PATROL BORO BRONX</td>\n",
       "      <td>1011125</td>\n",
       "      <td>241994</td>\n",
       "      <td>54E1</td>\n",
       "      <td>AMBULANCE CASE: EDP/INSIDE</td>\n",
       "      <td>Non CIP</td>\n",
       "      <td>01/01/2021 12:00:10 AM</td>\n",
       "      <td>01/01/2021 12:00:42 AM</td>\n",
       "      <td>NaN</td>\n",
       "      <td>01/01/2021 04:32:22 AM</td>\n",
       "      <td>40.830860</td>\n",
       "      <td>-73.902887</td>\n",
       "    </tr>\n",
       "  </tbody>\n",
       "</table>\n",
       "</div>"
      ],
      "text/plain": [
       "   CAD_EVNT_ID CREATE_DATE INCIDENT_DATE INCIDENT_TIME  NYPD_PCT_CD   BORO_NM  \\\n",
       "0     73973369  01/01/2021    2020-12-31      23:13:14         40.0     BRONX   \n",
       "1     73973980  01/01/2021    2020-12-31      23:59:22         68.0  BROOKLYN   \n",
       "2     73973990  01/01/2021    2021-01-01      00:00:06         81.0  BROOKLYN   \n",
       "3     73973991  01/01/2021    2021-01-01      00:00:08        107.0    QUEENS   \n",
       "4     73973992  01/01/2021    2021-01-01      00:00:10         42.0     BRONX   \n",
       "\n",
       "              PATRL_BORO_NM  GEO_CD_X  GEO_CD_Y RADIO_CODE  \\\n",
       "0         PATROL BORO BRONX   1003322    235705        53I   \n",
       "1   PATROL BORO BKLYN SOUTH    975951    164143       11C4   \n",
       "2   PATROL BORO BKLYN NORTH   1006343    186591       10S2   \n",
       "3  PATROL BORO QUEENS SOUTH   1038733    200582       68Q1   \n",
       "4         PATROL BORO BRONX   1011125    241994       54E1   \n",
       "\n",
       "                                          TYP_DESC  CIP_JOBS  \\\n",
       "0                         VEHICLE ACCIDENT: INJURY   Non CIP   \n",
       "1                      ALARMS: COMMERCIAL/BURGLARY   Non CIP   \n",
       "2  INVESTIGATE/POSSIBLE CRIME: SHOTS FIRED/OUTSIDE  Critical   \n",
       "3                    SEE COMPLAINANT: OTHER/INSIDE   Non CIP   \n",
       "4                       AMBULANCE CASE: EDP/INSIDE   Non CIP   \n",
       "\n",
       "                   ADD_TS                 DISP_TS               ARRIVD_TS  \\\n",
       "0  01/01/2021 12:06:24 AM  01/01/2021 12:06:24 AM                     NaN   \n",
       "1  01/01/2021 12:01:07 AM  01/01/2021 12:07:05 AM  01/01/2021 12:29:47 AM   \n",
       "2  01/01/2021 12:00:06 AM  01/01/2021 12:00:37 AM  01/01/2021 12:02:30 AM   \n",
       "3  01/01/2021 12:00:09 AM  01/01/2021 12:00:09 AM  01/01/2021 12:00:09 AM   \n",
       "4  01/01/2021 12:00:10 AM  01/01/2021 12:00:42 AM                     NaN   \n",
       "\n",
       "                CLOSNG_TS   Latitude  Longitude  \n",
       "0  01/01/2021 12:52:29 AM  40.813619 -73.931102  \n",
       "1  01/01/2021 12:41:16 AM  40.617215 -74.029894  \n",
       "2  01/01/2021 12:35:03 AM  40.678807 -73.920349  \n",
       "3  01/01/2021 01:43:36 AM  40.717068 -73.803461  \n",
       "4  01/01/2021 04:32:22 AM  40.830860 -73.902887  "
      ]
     },
     "execution_count": 4,
     "metadata": {},
     "output_type": "execute_result"
    }
   ],
   "source": [
    "df.head()"
   ]
  },
  {
   "cell_type": "code",
   "execution_count": 5,
   "metadata": {},
   "outputs": [],
   "source": [
    "df['INCIDENT_TIME'] = pd.to_datetime(df['INCIDENT_TIME'], format='%H:%M:%S')"
   ]
  },
  {
   "cell_type": "code",
   "execution_count": 6,
   "metadata": {},
   "outputs": [],
   "source": [
    "df['NYPD_PCT_CD'] = df['NYPD_PCT_CD'].astype(str)"
   ]
  },
  {
   "cell_type": "code",
   "execution_count": 7,
   "metadata": {
    "scrolled": true
   },
   "outputs": [
    {
     "data": {
      "text/plain": [
       "Index(['CAD_EVNT_ID', 'CREATE_DATE', 'INCIDENT_DATE', 'INCIDENT_TIME',\n",
       "       'NYPD_PCT_CD', 'BORO_NM', 'PATRL_BORO_NM', 'GEO_CD_X', 'GEO_CD_Y',\n",
       "       'RADIO_CODE', 'TYP_DESC', 'CIP_JOBS', 'ADD_TS', 'DISP_TS', 'ARRIVD_TS',\n",
       "       'CLOSNG_TS', 'Latitude', 'Longitude'],\n",
       "      dtype='object')"
      ]
     },
     "execution_count": 7,
     "metadata": {},
     "output_type": "execute_result"
    }
   ],
   "source": [
    "df.columns"
   ]
  },
  {
   "cell_type": "code",
   "execution_count": 8,
   "metadata": {},
   "outputs": [],
   "source": [
    "df = df[['CAD_EVNT_ID', 'CREATE_DATE', 'INCIDENT_DATE', 'INCIDENT_TIME','NYPD_PCT_CD', 'BORO_NM', 'PATRL_BORO_NM','TYP_DESC','CIP_JOBS']]"
   ]
  },
  {
   "cell_type": "code",
   "execution_count": 9,
   "metadata": {},
   "outputs": [
    {
     "name": "stdout",
     "output_type": "stream",
     "text": [
      "<class 'pandas.core.frame.DataFrame'>\n",
      "RangeIndex: 6707027 entries, 0 to 6707026\n",
      "Data columns (total 9 columns):\n",
      " #   Column         Dtype         \n",
      "---  ------         -----         \n",
      " 0   CAD_EVNT_ID    int64         \n",
      " 1   CREATE_DATE    object        \n",
      " 2   INCIDENT_DATE  datetime64[ns]\n",
      " 3   INCIDENT_TIME  datetime64[ns]\n",
      " 4   NYPD_PCT_CD    object        \n",
      " 5   BORO_NM        object        \n",
      " 6   PATRL_BORO_NM  object        \n",
      " 7   TYP_DESC       object        \n",
      " 8   CIP_JOBS       object        \n",
      "dtypes: datetime64[ns](2), int64(1), object(6)\n",
      "memory usage: 460.5+ MB\n"
     ]
    }
   ],
   "source": [
    "df.info()"
   ]
  },
  {
   "cell_type": "markdown",
   "metadata": {},
   "source": [
    "Checking for Null values"
   ]
  },
  {
   "cell_type": "code",
   "execution_count": 10,
   "metadata": {},
   "outputs": [
    {
     "data": {
      "text/plain": [
       "CAD_EVNT_ID      0\n",
       "CREATE_DATE      0\n",
       "INCIDENT_DATE    0\n",
       "INCIDENT_TIME    0\n",
       "NYPD_PCT_CD      0\n",
       "BORO_NM          0\n",
       "PATRL_BORO_NM    0\n",
       "TYP_DESC         0\n",
       "CIP_JOBS         0\n",
       "dtype: int64"
      ]
     },
     "execution_count": 10,
     "metadata": {},
     "output_type": "execute_result"
    }
   ],
   "source": [
    "df.isnull().sum()"
   ]
  },
  {
   "cell_type": "markdown",
   "metadata": {},
   "source": [
    "### Overall 911 calls within the boroughs"
   ]
  },
  {
   "cell_type": "markdown",
   "metadata": {},
   "source": [
    "First, I would like to explore the types of calls to 911 in the 5 boroughs. This will tell us the variety of emergencies reported to 911."
   ]
  },
  {
   "cell_type": "code",
   "execution_count": 11,
   "metadata": {},
   "outputs": [
    {
     "data": {
      "text/plain": [
       "VISIBILITY PATROL: DIRECTED                         1137938\n",
       "SEE COMPLAINANT: OTHER/INSIDE                        549431\n",
       "STATION INSPECTION BY TRANSIT BUREAU PERSONNEL       433345\n",
       "TRAIN RUN/MOBILE ORDER MAINTENANCE SWEEP             364330\n",
       "COMMUNITY TIME                                       254462\n",
       "                                                     ...   \n",
       "SEE COMPLAINANT: ASSIST MARSHALL/LTD ACC HWY              1\n",
       "OTHER CRIMES (IN PROGRESS): TRESPASS/LTD ACC HWY          1\n",
       "ROBBERY (PAST): COMMERCIAL/TRANSIT                        1\n",
       "AMBULANCE 2ND CALL VERIFY                                 1\n",
       "BURGLARY (IN PROGRESS): OTHER/LTD ACC HWY                 1\n",
       "Name: TYP_DESC, Length: 428, dtype: int64"
      ]
     },
     "execution_count": 11,
     "metadata": {},
     "output_type": "execute_result"
    }
   ],
   "source": [
    "df['TYP_DESC'].value_counts()"
   ]
  },
  {
   "cell_type": "markdown",
   "metadata": {},
   "source": [
    "There appears to be **428** different types of calls."
   ]
  },
  {
   "cell_type": "code",
   "execution_count": 12,
   "metadata": {},
   "outputs": [
    {
     "data": {
      "text/plain": [
       "428"
      ]
     },
     "execution_count": 12,
     "metadata": {},
     "output_type": "execute_result"
    }
   ],
   "source": [
    "df['TYP_DESC'].nunique()"
   ]
  },
  {
   "cell_type": "markdown",
   "metadata": {},
   "source": [
    "Next, I would like to see the number of calls to get a sense of where most of these emergencies are occurring.<br>\n",
    "I would like to see the serious and critical calls."
   ]
  },
  {
   "cell_type": "code",
   "execution_count": 13,
   "metadata": {},
   "outputs": [
    {
     "data": {
      "text/plain": [
       "Non CIP         6263285\n",
       "Non Critical     219735\n",
       "Serious          143279\n",
       "Critical          80728\n",
       "Name: CIP_JOBS, dtype: int64"
      ]
     },
     "execution_count": 13,
     "metadata": {},
     "output_type": "execute_result"
    }
   ],
   "source": [
    "df['CIP_JOBS'].value_counts()"
   ]
  },
  {
   "cell_type": "code",
   "execution_count": 14,
   "metadata": {},
   "outputs": [
    {
     "data": {
      "text/plain": [
       "<AxesSubplot:xlabel='BORO_NM', ylabel='count'>"
      ]
     },
     "execution_count": 14,
     "metadata": {},
     "output_type": "execute_result"
    },
    {
     "data": {
      "image/png": "[encoded data removed]",
      "text/plain": [
       "<Figure size 432x288 with 1 Axes>"
      ]
     },
     "metadata": {
      "needs_background": "light"
     },
     "output_type": "display_data"
    }
   ],
   "source": [
    "crimes = df[(df['CIP_JOBS']=='Serious') | (df['CIP_JOBS']=='Critical')]\n",
    "sns.countplot(x=crimes['BORO_NM'])"
   ]
  },
  {
   "cell_type": "markdown",
   "metadata": {},
   "source": [
    "**Top 10 precincts where serious and critical calls occur.** <br>\n",
    "From the output below, we see that most calls are mostly in Bronx and Brooklyn precincts."
   ]
  },
  {
   "cell_type": "code",
   "execution_count": 15,
   "metadata": {},
   "outputs": [
    {
     "data": {
      "text/plain": [
       "75.0    8290\n",
       "47.0    6594\n",
       "44.0    6293\n",
       "43.0    5711\n",
       "73.0    5678\n",
       "40.0    5676\n",
       "46.0    5270\n",
       "52.0    4979\n",
       "67.0    4896\n",
       "42.0    4650\n",
       "Name: NYPD_PCT_CD, dtype: int64"
      ]
     },
     "execution_count": 15,
     "metadata": {},
     "output_type": "execute_result"
    }
   ],
   "source": [
    "crimes['NYPD_PCT_CD'].value_counts().head(10)"
   ]
  },
  {
   "cell_type": "markdown",
   "metadata": {},
   "source": [
    "Now I would like to see the different types of serious and critical crimes."
   ]
  },
  {
   "cell_type": "code",
   "execution_count": 16,
   "metadata": {
    "scrolled": true
   },
   "outputs": [
    {
     "data": {
      "text/plain": [
       "LARCENY (IN PROGRESS): OTHER/INSIDE               48865\n",
       "ASSAULT (IN PROGRESS): OTHER/FAMILY               26038\n",
       "ASSAULT (IN PROGRESS): OTHER/INSIDE               22006\n",
       "ASSAULT (IN PROGRESS): OTHER/OUTSIDE              21531\n",
       "SHOT SPOTTER                                      13623\n",
       "                                                  ...  \n",
       "LARCENY (IN PROGRESS): VEHICLE/TRANSIT                3\n",
       "ROVING BAND: TRANSIT                                  2\n",
       "LARCENY (IN PROGRESS): FROM PERSON/LTD ACC HWY        2\n",
       "BURGLARY (IN PROGRESS): OTHER/LTD ACC HWY             1\n",
       "ROBBERY (IN PROGRESS): COMMERCIAL/LTD ACC HWY         1\n",
       "Name: TYP_DESC, Length: 74, dtype: int64"
      ]
     },
     "execution_count": 16,
     "metadata": {},
     "output_type": "execute_result"
    }
   ],
   "source": [
    "crimes['TYP_DESC'].value_counts()"
   ]
  },
  {
   "cell_type": "markdown",
   "metadata": {},
   "source": [
    "**Amount of calls of \"shots fired\" and \"Shot Spotter\" technology.** <br>\n",
    "As we see here most of the shots fired and shot spotter calls are in Bronx and Brooklyn.<br>\n",
    "Shotspotter is a gunshot detection system that identifies and accurately reports gunshots to the closest precinct in seconds."
   ]
  },
  {
   "cell_type": "code",
   "execution_count": 17,
   "metadata": {},
   "outputs": [
    {
     "data": {
      "text/plain": [
       "<AxesSubplot:xlabel='BORO_NM', ylabel='count'>"
      ]
     },
     "execution_count": 17,
     "metadata": {},
     "output_type": "execute_result"
    },
    {
     "data": {
      "image/png": "[encoded data removed]",
      "text/plain": [
       "<Figure size 432x288 with 1 Axes>"
      ]
     },
     "metadata": {
      "needs_background": "light"
     },
     "output_type": "display_data"
    }
   ],
   "source": [
    "shots = crimes[(crimes['TYP_DESC']=='INVESTIGATE/POSSIBLE CRIME: SHOTS FIRED/OUTSIDE') | (crimes['TYP_DESC']=='SHOT SPOTTER')|(crimes['TYP_DESC']=='INVESTIGATE/POSSIBLE CRIME: SHOTS FIRED/TRANSIT')|(crimes['TYP_DESC']=='INVESTIGATE/POSSIBLE CRIME: SHOTS FIRED/INSIDE')]\n",
    "sns.countplot(x=shots['BORO_NM'])"
   ]
  },
  {
   "cell_type": "markdown",
   "metadata": {},
   "source": [
    "**Top 10 precincts where calls for shots fired occur.**"
   ]
  },
  {
   "cell_type": "code",
   "execution_count": 18,
   "metadata": {},
   "outputs": [
    {
     "data": {
      "text/plain": [
       "75.0     1894\n",
       "47.0     1299\n",
       "73.0     1134\n",
       "67.0      999\n",
       "43.0      847\n",
       "44.0      698\n",
       "34.0      683\n",
       "42.0      661\n",
       "48.0      651\n",
       "113.0     642\n",
       "Name: NYPD_PCT_CD, dtype: int64"
      ]
     },
     "execution_count": 18,
     "metadata": {},
     "output_type": "execute_result"
    }
   ],
   "source": [
    "shots['NYPD_PCT_CD'].value_counts().head(10)"
   ]
  },
  {
   "cell_type": "markdown",
   "metadata": {},
   "source": [
    "**Days in 2021 with the most shootings...** <br>\n",
    "We can tell from the data that within the top 5 days of shots being fired,  <br>\n",
    "that 4 are in the months that the weather begins to warm up in NYC. <br>\n",
    "- One interesting find is that the highest day of gun activity is on New Years Day; <br>\n",
    "  Most likely when people shoot into the sky after the ball drops.<br>\n",
    "- Another interesting find is that the second highest day of shootings is on the 4th of July. <br>\n",
    "  It makes me wonder if the Shotspotter is also picking up fireworks and confusing them with <br>\n",
    "  gunshots. <br>\n",
    "  Shotspotter doesn't think so.\n",
    "  When asked about if the Shotspotter system confuses fireworks from gunshots, Sacramento Police stated that <br>\n",
    "  **“The system is designed to be able to differentiate between sounds of gunfire from the sounds of other similar sounds like        fireworks,”** <br>\n",
    "  Shot spotter officials say the technology, which measures distance, direction and wavelengths of sounds only picks up gunfire. \n",
    "  "
   ]
  },
  {
   "cell_type": "code",
   "execution_count": 19,
   "metadata": {},
   "outputs": [
    {
     "data": {
      "text/plain": [
       "2021-01-01    204\n",
       "2021-07-04    201\n",
       "2021-06-20    170\n",
       "2021-05-02    137\n",
       "2021-06-06    133\n",
       "Name: INCIDENT_DATE, dtype: int64"
      ]
     },
     "execution_count": 19,
     "metadata": {},
     "output_type": "execute_result"
    }
   ],
   "source": [
    "shots['INCIDENT_DATE'].value_counts().head(5)"
   ]
  },
  {
   "cell_type": "code",
   "execution_count": null,
   "metadata": {},
   "outputs": [],
   "source": []
  },
  {
   "cell_type": "code",
   "execution_count": 20,
   "metadata": {},
   "outputs": [],
   "source": [
    "july4 = shots[shots['INCIDENT_DATE'] == \"2021-07-04\"]\n",
    "j4 = july4['TYP_DESC']"
   ]
  },
  {
   "cell_type": "code",
   "execution_count": 21,
   "metadata": {},
   "outputs": [],
   "source": [
    "from matplotlib import rcParams"
   ]
  },
  {
   "cell_type": "code",
   "execution_count": 22,
   "metadata": {},
   "outputs": [
    {
     "data": {
      "text/plain": [
       "<AxesSubplot:xlabel='TYP_DESC', ylabel='count'>"
      ]
     },
     "execution_count": 22,
     "metadata": {},
     "output_type": "execute_result"
    },
    {
     "data": {
      "image/png": "[encoded data removed]",
      "text/plain": [
       "<Figure size 1080x576 with 1 Axes>"
      ]
     },
     "metadata": {},
     "output_type": "display_data"
    }
   ],
   "source": [
    "rcParams['figure.figsize'] = 15,8\n",
    "sns.set(font_scale=0.7)\n",
    "sns.countplot(x=j4)"
   ]
  },
  {
   "cell_type": "markdown",
   "metadata": {},
   "source": [
    "**Most frequent months where shots are fired in 2021** <br>\n",
    "From the output we see that most calls reporting gunshots occur in May and June and declines from there."
   ]
  },
  {
   "cell_type": "code",
   "execution_count": 23,
   "metadata": {},
   "outputs": [
    {
     "data": {
      "text/plain": [
       "<AxesSubplot:xlabel='INCIDENT_DATE', ylabel='count'>"
      ]
     },
     "execution_count": 23,
     "metadata": {},
     "output_type": "execute_result"
    },
    {
     "data": {
      "image/png": "[encoded data removed]",
      "text/plain": [
       "<Figure size 1080x576 with 1 Axes>"
      ]
     },
     "metadata": {},
     "output_type": "display_data"
    }
   ],
   "source": [
    "months = pd.DatetimeIndex(shots['INCIDENT_DATE']).month\n",
    "sns.countplot(x=months)"
   ]
  },
  {
   "cell_type": "markdown",
   "metadata": {},
   "source": [
    "**Most frequent hours when shots are called in or detected** <br>\n",
    "Also, we see that most shooting incidents increase from 8pm and begin to decline after midnight."
   ]
  },
  {
   "cell_type": "code",
   "execution_count": 24,
   "metadata": {},
   "outputs": [
    {
     "data": {
      "text/plain": [
       "<AxesSubplot:xlabel='INCIDENT_TIME', ylabel='count'>"
      ]
     },
     "execution_count": 24,
     "metadata": {},
     "output_type": "execute_result"
    },
    {
     "data": {
      "image/png": "[encoded data removed]",
      "text/plain": [
       "<Figure size 1080x576 with 1 Axes>"
      ]
     },
     "metadata": {},
     "output_type": "display_data"
    }
   ],
   "source": [
    "hours = pd.DatetimeIndex(shots['INCIDENT_TIME']).hour\n",
    "sns.countplot(x=hours)"
   ]
  },
  {
   "cell_type": "markdown",
   "metadata": {},
   "source": [
    "## Conclusion:"
   ]
  },
  {
   "cell_type": "markdown",
   "metadata": {},
   "source": [
    "As we all have noticed after 2020, the city and the country as a whole are experiencing huge increases in gun activity. <br>\n",
    "With our new mayor promising to deploy additional units to highly affected areas, we have yet to see if this is an effective <br>\n",
    "measure or not. Although these stats are way lower than what we have experienced in the 90s, the recent gun violence is a <br>\n",
    "grim reminder of what it was."
   ]
  },
  {
   "cell_type": "code",
   "execution_count": null,
   "metadata": {},
   "outputs": [],
   "source": []
  }
 ],
 "metadata": {
  "kernelspec": {
   "display_name": "Python 3",
   "language": "python",
   "name": "python3"
  },
  "language_info": {
   "codemirror_mode": {
    "name": "ipython",
    "version": 3
   },
   "file_extension": ".py",
   "mimetype": "text/x-python",
   "name": "python",
   "nbconvert_exporter": "python",
   "pygments_lexer": "ipython3",
   "version": "3.8.5"
  }
 },
 "nbformat": 4,
 "nbformat_minor": 4
}
